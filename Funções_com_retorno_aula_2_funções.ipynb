{
  "nbformat": 4,
  "nbformat_minor": 0,
  "metadata": {
    "colab": {
      "provenance": [],
      "authorship_tag": "ABX9TyPK53g0Z5mAqSiF5xgZr03Z",
      "include_colab_link": true
    },
    "kernelspec": {
      "name": "python3",
      "display_name": "Python 3"
    },
    "language_info": {
      "name": "python"
    }
  },
  "cells": [
    {
      "cell_type": "markdown",
      "metadata": {
        "id": "view-in-github",
        "colab_type": "text"
      },
      "source": [
        "<a href=\"https://colab.research.google.com/github/dhebris/Python-para-Data-Science_Alura/blob/main/Fun%C3%A7%C3%B5es_com_retorno_aula_2_fun%C3%A7%C3%B5es.ipynb\" target=\"_parent\"><img src=\"https://colab.research.google.com/assets/colab-badge.svg\" alt=\"Open In Colab\"/></a>"
      ]
    },
    {
      "cell_type": "markdown",
      "source": [
        "\n",
        "\n",
        "Anteriormente, encontramos dificuldades em armazenar o valor retornado pela função em uma variável. Sendo assim, trabalharemos com funções que retornam valores.\n",
        "\n",
        "\n"
      ],
      "metadata": {
        "id": "8wBZrA3gr3-g"
      }
    },
    {
      "cell_type": "code",
      "source": [
        "# Notas do(a) estudante\n",
        "notas = [8.5, 9.0, 6.0, 10.0]"
      ],
      "metadata": {
        "id": "zlXl8H8crPgN"
      },
      "execution_count": 1,
      "outputs": []
    },
    {
      "cell_type": "markdown",
      "source": [
        "Em seguida, criemos a função, mas ao invés de imprimir o resultado, pediremos que seja retornado:"
      ],
      "metadata": {
        "id": "yz8fWhpurrBA"
      }
    },
    {
      "cell_type": "code",
      "source": [
        "def media(lista):\n",
        "    calculo = sum(lista) / len(lista)\n",
        "    return calculo"
      ],
      "metadata": {
        "id": "pOSey3k5rPeJ"
      },
      "execution_count": 2,
      "outputs": []
    },
    {
      "cell_type": "markdown",
      "source": [
        "Após executarmos a criação da função, criaremos uma variável resultado na qual salvaremos a média das notas:"
      ],
      "metadata": {
        "id": "rCBi60EyrvVq"
      }
    },
    {
      "cell_type": "code",
      "source": [
        "resultado = media(notas)"
      ],
      "metadata": {
        "id": "URK-zvRnrPa6"
      },
      "execution_count": 3,
      "outputs": []
    },
    {
      "cell_type": "code",
      "source": [
        "resultado"
      ],
      "metadata": {
        "colab": {
          "base_uri": "https://localhost:8080/"
        },
        "id": "KnoLWOpRrPYc",
        "outputId": "e417780f-5a27-4e6e-c7a0-098da176c647"
      },
      "execution_count": 4,
      "outputs": [
        {
          "output_type": "execute_result",
          "data": {
            "text/plain": [
              "8.375"
            ]
          },
          "metadata": {},
          "execution_count": 4
        }
      ]
    },
    {
      "cell_type": "markdown",
      "source": [
        "\n",
        "\n",
        "---\n",
        "\n"
      ],
      "metadata": {
        "id": "irSoaX0csA5Q"
      }
    },
    {
      "cell_type": "markdown",
      "source": [
        "Agora, façamos a função do cálculo, semelhante à anterior, e com algumas incrementações."
      ],
      "metadata": {
        "id": "qAOja3vosO_D"
      }
    },
    {
      "cell_type": "code",
      "source": [
        "def boletim(lista):\n",
        "    media = sum(lista) / len(lista)\n",
        "\n",
        "    if media >= 6:\n",
        "        situacao = \"Aprovado(a)\"\n",
        "    else:\n",
        "        situacao = \"Reprovado(a)\"\n",
        "\n",
        "    return calculo"
      ],
      "metadata": {
        "id": "JWGjmafLsNTI"
      },
      "execution_count": 9,
      "outputs": []
    },
    {
      "cell_type": "markdown",
      "source": [
        "Lembre-se, porém, que o texto retornado deve apresentar a média e a situação do estudante, então precisamos retornar duas variáveis. Para isso, podemos passá-las como uma tupla, que é uma coleção de valores entre parênteses separados por vírgulas.\n",
        "\n",
        "Assim como a lista, a tupla pode ser iterada e armazena valores."
      ],
      "metadata": {
        "id": "INDqztMasdz5"
      }
    },
    {
      "cell_type": "code",
      "source": [
        "def boletim(lista):\n",
        "    media = sum(lista) / len(lista)\n",
        "\n",
        "    if media >= 6:\n",
        "        situacao = \"Aprovado(a)\"\n",
        "    else:\n",
        "        situacao = \"Reprovado(a)\"\n",
        "\n",
        "    return (media, situacao)"
      ],
      "metadata": {
        "id": "E4xiiQQFsNQJ"
      },
      "execution_count": 10,
      "outputs": []
    },
    {
      "cell_type": "code",
      "source": [
        "boletim(notas)"
      ],
      "metadata": {
        "colab": {
          "base_uri": "https://localhost:8080/"
        },
        "id": "FhaIcoI9sNNq",
        "outputId": "6956a1a3-0f84-4a14-b853-3e157296449d"
      },
      "execution_count": 11,
      "outputs": [
        {
          "output_type": "execute_result",
          "data": {
            "text/plain": [
              "(8.375, 'Aprovado(a)')"
            ]
          },
          "metadata": {},
          "execution_count": 11
        }
      ]
    },
    {
      "cell_type": "markdown",
      "source": [
        "Perceba que a tupla pode ter valores de diferentes tipos, já que neste caso temos um número float e uma string. Sua leitura pode ser feita da mesma forma que lemos uma lista, pegando um elemento. Outra opção é passar cada valor para uma variável."
      ],
      "metadata": {
        "id": "I7eaxXFRsqff"
      }
    },
    {
      "cell_type": "code",
      "source": [
        "media, situacao = boletim(notas)"
      ],
      "metadata": {
        "id": "Nd-muFoUsNK4"
      },
      "execution_count": 12,
      "outputs": []
    },
    {
      "cell_type": "code",
      "source": [
        "media"
      ],
      "metadata": {
        "colab": {
          "base_uri": "https://localhost:8080/"
        },
        "id": "EOda02yPsNIE",
        "outputId": "bef99e44-0ab2-408e-e8e4-84494338f662"
      },
      "execution_count": 13,
      "outputs": [
        {
          "output_type": "execute_result",
          "data": {
            "text/plain": [
              "8.375"
            ]
          },
          "metadata": {},
          "execution_count": 13
        }
      ]
    },
    {
      "cell_type": "code",
      "source": [
        "situacao"
      ],
      "metadata": {
        "colab": {
          "base_uri": "https://localhost:8080/",
          "height": 36
        },
        "id": "J6L6OKfmsvHt",
        "outputId": "80cbc509-af67-46ef-989e-6963a101f598"
      },
      "execution_count": 14,
      "outputs": [
        {
          "output_type": "execute_result",
          "data": {
            "text/plain": [
              "'Aprovado(a)'"
            ],
            "application/vnd.google.colaboratory.intrinsic+json": {
              "type": "string"
            }
          },
          "metadata": {},
          "execution_count": 14
        }
      ]
    },
    {
      "cell_type": "code",
      "source": [
        "print(f'O(a) estudante atingiu uma média de {media} e foi {situacao}.')"
      ],
      "metadata": {
        "colab": {
          "base_uri": "https://localhost:8080/"
        },
        "id": "-3d7ruZKsvFE",
        "outputId": "6f0b4b88-0f3d-443f-e548-50771f2d27cf"
      },
      "execution_count": 15,
      "outputs": [
        {
          "output_type": "stream",
          "name": "stdout",
          "text": [
            "O(a) estudante atingiu uma média de 8.375 e foi Aprovado(a).\n"
          ]
        }
      ]
    },
    {
      "cell_type": "code",
      "source": [],
      "metadata": {
        "id": "qmeHR-09svCd"
      },
      "execution_count": null,
      "outputs": []
    },
    {
      "cell_type": "markdown",
      "source": [
        "**Funções lambda**"
      ],
      "metadata": {
        "id": "eGBytqA8s97r"
      }
    },
    {
      "cell_type": "markdown",
      "source": [
        "Uma função lambda, também chamada de função anônima, não precisa ser definida, ou seja, não possui um nome. Além disso, pode ser descrita uma única linha.\n",
        "\n",
        "O formato mais simples desta função é o seguinte:"
      ],
      "metadata": {
        "id": "YoN_J7lVtKXR"
      }
    },
    {
      "cell_type": "code",
      "source": [
        "##lambda <variavel>: <expressao>"
      ],
      "metadata": {
        "id": "FWQRP-1VtBzG"
      },
      "execution_count": null,
      "outputs": []
    },
    {
      "cell_type": "markdown",
      "source": [
        "Se quiséssemos fazer uma comparação aplicando qualitativo (pontuação extra) a uma média do estudante, poderíamos usar uma função simples:"
      ],
      "metadata": {
        "id": "lRQyF8XYte-4"
      }
    },
    {
      "cell_type": "code",
      "source": [
        "# Comparando uma função de qualitativo no formato de função para função anônima\n",
        "nota = float(input(\"Digite a nota do(a) estudante: \"))\n",
        "\n",
        "def qualitativo(x):\n",
        "    return x + 0.5\n",
        "\n",
        "qualitativo(nota)"
      ],
      "metadata": {
        "colab": {
          "base_uri": "https://localhost:8080/"
        },
        "id": "z-_OT_94tBwR",
        "outputId": "e3935caf-af1e-4626-d04c-24974e46e9d6"
      },
      "execution_count": 17,
      "outputs": [
        {
          "name": "stdout",
          "output_type": "stream",
          "text": [
            "Digite a nota do(a) estudante: 10\n"
          ]
        },
        {
          "output_type": "execute_result",
          "data": {
            "text/plain": [
              "10.5"
            ]
          },
          "metadata": {},
          "execution_count": 17
        }
      ]
    },
    {
      "cell_type": "markdown",
      "source": [
        "No formato lambda, ao invés de nomeá-la como qualitativo, poderíamos passar como uma variável:"
      ],
      "metadata": {
        "id": "s1Y8-wRXthO3"
      }
    },
    {
      "cell_type": "code",
      "source": [
        "# Testando a mesma função para uma função lambda\n",
        "nota = float(input(\"Digite a nota do(a) estudante: \"))\n",
        "\n",
        "qualitativo = lambda x: x + 0.5\n",
        "\n",
        "qualitativo(nota)"
      ],
      "metadata": {
        "colab": {
          "base_uri": "https://localhost:8080/"
        },
        "id": "opflZptktBtS",
        "outputId": "1db473e4-0f6a-4b8d-dc56-def1059c3fd0"
      },
      "execution_count": 18,
      "outputs": [
        {
          "name": "stdout",
          "output_type": "stream",
          "text": [
            "Digite a nota do(a) estudante: 10\n"
          ]
        },
        {
          "output_type": "execute_result",
          "data": {
            "text/plain": [
              "10.5"
            ]
          },
          "metadata": {},
          "execution_count": 18
        }
      ]
    },
    {
      "cell_type": "code",
      "source": [
        "# Recebendo as notas e calculando a média ponderável\n",
        "N1 = float(input(\"Digite a 1ª nota do(a) estudante: \"))\n",
        "N2 = float(input(\"Digite a 2ª nota do(a) estudante: \"))\n",
        "N3 = float(input(\"Digite a 3ª nota do(a) estudante: \"))"
      ],
      "metadata": {
        "colab": {
          "base_uri": "https://localhost:8080/"
        },
        "id": "TXOeXQmMtBqc",
        "outputId": "808c4fd9-1c3e-4a6f-d86c-c2f2ab56dbfd"
      },
      "execution_count": 19,
      "outputs": [
        {
          "name": "stdout",
          "output_type": "stream",
          "text": [
            "Digite a 1ª nota do(a) estudante: 10\n",
            "Digite a 2ª nota do(a) estudante: 2\n",
            "Digite a 3ª nota do(a) estudante: 5\n"
          ]
        }
      ]
    },
    {
      "cell_type": "markdown",
      "source": [
        "Nós chamaremos nossa função lambda de media_ponderavel e ela receberá notas x, y e z, que terão um peso e serão divididas por 10: (x * 3 + y * 2 + z * 5)/10:"
      ],
      "metadata": {
        "id": "CbuaagKttyXC"
      }
    },
    {
      "cell_type": "code",
      "source": [
        "# Recebendo as notas e calculando a média ponderável\n",
        "N1 = float(input(\"Digite a 1ª nota do(a) estudante: \"))\n",
        "N2 = float(input(\"Digite a 2ª nota do(a) estudante: \"))\n",
        "N3 = float(input(\"Digite a 3ª nota do(a) estudante: \"))\n",
        "\n",
        "media_ponderavel = lambda x, y, z: (x * 3 + y * 2 + z * 5)/10"
      ],
      "metadata": {
        "colab": {
          "base_uri": "https://localhost:8080/"
        },
        "id": "Z51lpNCPtvO2",
        "outputId": "f4ae6f0c-1623-49dc-ab5e-14cd49db0400"
      },
      "execution_count": 20,
      "outputs": [
        {
          "name": "stdout",
          "output_type": "stream",
          "text": [
            "Digite a 1ª nota do(a) estudante: 10\n",
            "Digite a 2ª nota do(a) estudante: 2\n",
            "Digite a 3ª nota do(a) estudante: 5\n"
          ]
        }
      ]
    },
    {
      "cell_type": "code",
      "source": [
        "# Recebendo as notas e calculando a média ponderável\n",
        "N1 = float(input(\"Digite a 1ª nota do(a) estudante: \"))\n",
        "N2 = float(input(\"Digite a 2ª nota do(a) estudante: \"))\n",
        "N3 = float(input(\"Digite a 3ª nota do(a) estudante: \"))\n",
        "\n",
        "media_ponderavel = lambda x, y, z: (x * 3 + y * 2 + z * 5)/10\n",
        "media_estudante = media_ponderavel(N1, N2, N3)\n",
        "media_estudante"
      ],
      "metadata": {
        "colab": {
          "base_uri": "https://localhost:8080/"
        },
        "id": "loAw0xd7tvJX",
        "outputId": "53d650e3-dcba-475e-8632-7f8f6b74464f"
      },
      "execution_count": 22,
      "outputs": [
        {
          "name": "stdout",
          "output_type": "stream",
          "text": [
            "Digite a 1ª nota do(a) estudante: 10\n",
            "Digite a 2ª nota do(a) estudante: 2\n",
            "Digite a 3ª nota do(a) estudante: 5\n"
          ]
        },
        {
          "output_type": "execute_result",
          "data": {
            "text/plain": [
              "5.9"
            ]
          },
          "metadata": {},
          "execution_count": 22
        }
      ]
    },
    {
      "cell_type": "code",
      "source": [
        "# Exibindo a média\n",
        "print(f'O(a) estudante atingiu uma média de {media_estudante}')"
      ],
      "metadata": {
        "colab": {
          "base_uri": "https://localhost:8080/"
        },
        "id": "2iBQOZUlt-tE",
        "outputId": "f7858368-019f-414d-ded8-040901fcf9c4"
      },
      "execution_count": 23,
      "outputs": [
        {
          "output_type": "stream",
          "name": "stdout",
          "text": [
            "O(a) estudante atingiu uma média de 5.9\n"
          ]
        }
      ]
    },
    {
      "cell_type": "markdown",
      "source": [
        "**MAP --** Existe, ainda, outro método de utilização da função lambda, que possui muito mais potencial e é bastante usado por cientistas de dados: atrelar a função lambda ao map.\n",
        "\n",
        "O map é uma _BUILT-IN FUNCTIONS que mapeia valores. Quando usado junto à lambda, conseguimos realizar funções simples e rápidas que nos permitem alterar valores de variáveis, listas e até dicionários.\n",
        "\n",
        "O formato padrão é o seguinte:"
      ],
      "metadata": {
        "id": "5H9CVxMluEnJ"
      }
    },
    {
      "cell_type": "code",
      "source": [
        "##map(<lambda function>, <iterador>)"
      ],
      "metadata": {
        "id": "o6P1EuIruH83"
      },
      "execution_count": null,
      "outputs": []
    },
    {
      "cell_type": "markdown",
      "source": [
        "Situação 5: Recebemos mais uma demanda, desta vez, para criar uma pequena função que pudesse adicionar qualitativo (pontuação extra) às notas do trimestre dos estudantes da turma que ganhou a gincana de programação promovida pela escola. Cada estudante receberá o qualitativo de 0.5 acrescido à média. Os dados recebidos correspondem a uma lista contendo as notas de alguns estudantes e uma variável com o qualitativo recebido."
      ],
      "metadata": {
        "id": "csMvLq2euLpg"
      }
    },
    {
      "cell_type": "code",
      "source": [
        "# Notas do(a) estudante\n",
        "notas = [6.0, 7.0, 9.0, 5.5, 8.0]\n",
        "qualitativo = 0.5"
      ],
      "metadata": {
        "id": "if6H04gZuIWX"
      },
      "execution_count": 24,
      "outputs": []
    },
    {
      "cell_type": "code",
      "source": [
        "notas_atualizadas = lambda x: x + qualitativo\n",
        "notas_atualizadas(notas)"
      ],
      "metadata": {
        "colab": {
          "base_uri": "https://localhost:8080/",
          "height": 238
        },
        "id": "a6Sad6gauITa",
        "outputId": "f762271a-806f-4f24-f8aa-e81ce2187ac0"
      },
      "execution_count": 25,
      "outputs": [
        {
          "output_type": "error",
          "ename": "TypeError",
          "evalue": "can only concatenate list (not \"float\") to list",
          "traceback": [
            "\u001b[0;31m---------------------------------------------------------------------------\u001b[0m",
            "\u001b[0;31mTypeError\u001b[0m                                 Traceback (most recent call last)",
            "\u001b[0;32m<ipython-input-25-42b2d9bbd856>\u001b[0m in \u001b[0;36m<cell line: 2>\u001b[0;34m()\u001b[0m\n\u001b[1;32m      1\u001b[0m \u001b[0mnotas_atualizadas\u001b[0m \u001b[0;34m=\u001b[0m \u001b[0;32mlambda\u001b[0m \u001b[0mx\u001b[0m\u001b[0;34m:\u001b[0m \u001b[0mx\u001b[0m \u001b[0;34m+\u001b[0m \u001b[0mqualitativo\u001b[0m\u001b[0;34m\u001b[0m\u001b[0;34m\u001b[0m\u001b[0m\n\u001b[0;32m----> 2\u001b[0;31m \u001b[0mnotas_atualizadas\u001b[0m\u001b[0;34m(\u001b[0m\u001b[0mnotas\u001b[0m\u001b[0;34m)\u001b[0m\u001b[0;34m\u001b[0m\u001b[0;34m\u001b[0m\u001b[0m\n\u001b[0m",
            "\u001b[0;32m<ipython-input-25-42b2d9bbd856>\u001b[0m in \u001b[0;36m<lambda>\u001b[0;34m(x)\u001b[0m\n\u001b[0;32m----> 1\u001b[0;31m \u001b[0mnotas_atualizadas\u001b[0m \u001b[0;34m=\u001b[0m \u001b[0;32mlambda\u001b[0m \u001b[0mx\u001b[0m\u001b[0;34m:\u001b[0m \u001b[0mx\u001b[0m \u001b[0;34m+\u001b[0m \u001b[0mqualitativo\u001b[0m\u001b[0;34m\u001b[0m\u001b[0;34m\u001b[0m\u001b[0m\n\u001b[0m\u001b[1;32m      2\u001b[0m \u001b[0mnotas_atualizadas\u001b[0m\u001b[0;34m(\u001b[0m\u001b[0mnotas\u001b[0m\u001b[0;34m)\u001b[0m\u001b[0;34m\u001b[0m\u001b[0;34m\u001b[0m\u001b[0m\n",
            "\u001b[0;31mTypeError\u001b[0m: can only concatenate list (not \"float\") to list"
          ]
        }
      ]
    },
    {
      "cell_type": "markdown",
      "source": [
        "Ao rodar esta célula, perceba que obtivemos um erro. Isso ocorre porque só conseguimos concatenar (juntar) uma lista com outra lista, mas não com um float. Ou seja, o x é lido como uma lista completa e não cada um de seus elementos separadamente. Além disso, qualitativo é do tipo float.\n",
        "\n",
        "Sendo assim, ao invés de pegar o qualitativo e somar a cada dado da lista, separadamente, ele tenta somá-lo à lista inteira, o que não é possível.\n",
        "\n",
        "O que precisamos fazer, então, é utilizar o map utilizando basicamente a mesma função, com a diferença que passamos o iterável notas:"
      ],
      "metadata": {
        "id": "dwoqe3gcuUeF"
      }
    },
    {
      "cell_type": "code",
      "source": [
        "# Não conseguimos aplicar o lambda em lista direto, é necessário utilizarmos junto a ela a função map\n",
        "notas_atualizadas = map(lambda x: x + qualitativo, notas)\n",
        "notas_atualizadas"
      ],
      "metadata": {
        "colab": {
          "base_uri": "https://localhost:8080/"
        },
        "id": "JtL0M_FHuIQj",
        "outputId": "64666c03-8335-4f19-be8b-ae653bcd7ff1"
      },
      "execution_count": 26,
      "outputs": [
        {
          "output_type": "execute_result",
          "data": {
            "text/plain": [
              "<map at 0x7a300de1b6d0>"
            ]
          },
          "metadata": {},
          "execution_count": 26
        }
      ]
    },
    {
      "cell_type": "code",
      "source": [
        "notas_atualizadas = list(notas_atualizadas)"
      ],
      "metadata": {
        "id": "yxJD2Ru8uXUL"
      },
      "execution_count": 27,
      "outputs": []
    },
    {
      "cell_type": "code",
      "source": [
        "notas_atualizadas"
      ],
      "metadata": {
        "colab": {
          "base_uri": "https://localhost:8080/"
        },
        "id": "yH8MOfW9uXRX",
        "outputId": "ebd41e1c-abb5-4a9e-e28e-9b20d7561ffa"
      },
      "execution_count": 28,
      "outputs": [
        {
          "output_type": "execute_result",
          "data": {
            "text/plain": [
              "[6.5, 7.5, 9.5, 6.0, 8.5]"
            ]
          },
          "metadata": {},
          "execution_count": 28
        }
      ]
    },
    {
      "cell_type": "code",
      "source": [],
      "metadata": {
        "id": "M0Fpb_eJuXOw"
      },
      "execution_count": null,
      "outputs": []
    }
  ]
}