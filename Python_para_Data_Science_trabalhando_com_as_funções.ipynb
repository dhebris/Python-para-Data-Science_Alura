{
  "nbformat": 4,
  "nbformat_minor": 0,
  "metadata": {
    "colab": {
      "provenance": [],
      "authorship_tag": "ABX9TyOu5/UgdZhljIvTLXAl3pBf",
      "include_colab_link": true
    },
    "kernelspec": {
      "name": "python3",
      "display_name": "Python 3"
    },
    "language_info": {
      "name": "python"
    }
  },
  "cells": [
    {
      "cell_type": "markdown",
      "metadata": {
        "id": "view-in-github",
        "colab_type": "text"
      },
      "source": [
        "<a href=\"https://colab.research.google.com/github/dhebris/Python-para-Data-Science_Alura/blob/main/Python_para_Data_Science_trabalhando_com_as_fun%C3%A7%C3%B5es.ipynb\" target=\"_parent\"><img src=\"https://colab.research.google.com/assets/colab-badge.svg\" alt=\"Open In Colab\"/></a>"
      ]
    },
    {
      "cell_type": "markdown",
      "source": [
        "**BUILT-IN FUNCTIONS**, funções embutidas"
      ],
      "metadata": {
        "id": "vhAoDWcyspeu"
      }
    },
    {
      "cell_type": "markdown",
      "source": [
        "Situação 1: A escola em que estamos construindo o nosso case de dados compartilhou os dados das notas de um estudante para que pudéssemos calcular a **média** deste em até uma casa decimal. Os dados recebidos correspondem a um dicionário com as chaves indicando o trimestre em questão e os valores das notas de cada trimestre do estudante em uma dada matéria."
      ],
      "metadata": {
        "id": "PSF-CYR_sRI1"
      }
    },
    {
      "cell_type": "markdown",
      "source": [
        "Neste bloco de código, temos uma variável notas que recebe um dicionário entre chaves."
      ],
      "metadata": {
        "id": "K5j0-DdctnVk"
      }
    },
    {
      "cell_type": "code",
      "source": [
        "#Notas do(a) estudante\n",
        "notas = {'1° Trimestre': 8.5, '2° Trimestre': 9.5, '3º trimestre': 7}\n",
        "notas"
      ],
      "metadata": {
        "id": "ipPEoWPZl7ST",
        "colab": {
          "base_uri": "https://localhost:8080/"
        },
        "outputId": "8fa651af-6b93-43a6-8034-fd6180511d99"
      },
      "execution_count": 2,
      "outputs": [
        {
          "output_type": "execute_result",
          "data": {
            "text/plain": [
              "{'1° Trimestre': 8.5, '2° Trimestre': 9.5, '3º trimestre': 7}"
            ]
          },
          "metadata": {},
          "execution_count": 2
        }
      ]
    },
    {
      "cell_type": "markdown",
      "source": [
        "Inicialmente, podemos criar uma variável soma que seja igual à 0. Em seguida, fazemos uma **iteração** com um laço for em que cada nota seja lida e somada à anterior. Assim, a primeira nota será lida e retornada; a segunda será lida e somada à anterior; e a terceira, será lida e somada à soma das duas anteriores.\n",
        "\n",
        "Precisamos passar um iterável para o laço for, porém, **o dicionário não é uma lista iterável já que queremos apenas os valores das notas. Para isso, usaremos o método .values(), que transforma os valores em uma lista iterável:**"
      ],
      "metadata": {
        "id": "BIqeExW4uNJA"
      }
    },
    {
      "cell_type": "code",
      "source": [
        "# Calculando a soma\n",
        "soma = 0\n",
        "\n",
        "for nota in notas.values():\n",
        "    soma += nota\n",
        "\n",
        "soma\n"
      ],
      "metadata": {
        "id": "H8i0hH73l7VH",
        "colab": {
          "base_uri": "https://localhost:8080/"
        },
        "outputId": "8437298c-9e7f-48f9-9900-c6b8d54fc98c"
      },
      "execution_count": 3,
      "outputs": [
        {
          "output_type": "execute_result",
          "data": {
            "text/plain": [
              "25.0"
            ]
          },
          "metadata": {},
          "execution_count": 3
        }
      ]
    },
    {
      "cell_type": "markdown",
      "source": [
        "Existe uma forma ainda mais simples de obter esta soma, sem que seja necessário criar uma variável e um laço de iteração. Para isso, temos as já citadas **_BUILT-IN FUNCTIONS**, que possui algumas funções de cálculos mais simples, como este da soma.\n",
        "\n",
        "Usaremos, então, a função sum(), que pode receber um iterável para somar os valores. Neste caso, como queremos apenas os valores do dicionário, basta passarmos notas.values(). Vamos associar a função a uma variável somatorio, apenas para diferenciá-la da anterior."
      ],
      "metadata": {
        "id": "3WmLz-8LwUWR"
      }
    },
    {
      "cell_type": "code",
      "source": [
        "somatorio = sum(notas.values())\n",
        "somatorio"
      ],
      "metadata": {
        "colab": {
          "base_uri": "https://localhost:8080/"
        },
        "id": "CgvidSaDwSp1",
        "outputId": "77db8df5-9339-4a39-f9c8-1518bcca88e0"
      },
      "execution_count": 4,
      "outputs": [
        {
          "output_type": "execute_result",
          "data": {
            "text/plain": [
              "25.0"
            ]
          },
          "metadata": {},
          "execution_count": 4
        }
      ]
    },
    {
      "cell_type": "markdown",
      "source": [
        "Após feita a soma, precisamos pegar o tamanho da lista, já que precisamos fazer a divisão pela quantidade de valores existente. Para isso, usamos a função len() em uma variável qtd_notas."
      ],
      "metadata": {
        "id": "8b4GmxpZzGeT"
      }
    },
    {
      "cell_type": "code",
      "source": [
        "help(len)"
      ],
      "metadata": {
        "colab": {
          "base_uri": "https://localhost:8080/"
        },
        "id": "oCjX_uRTzolA",
        "outputId": "81f368fa-fea0-4f2d-c51c-8bcac60ea6af"
      },
      "execution_count": 5,
      "outputs": [
        {
          "output_type": "stream",
          "name": "stdout",
          "text": [
            "Help on built-in function len in module builtins:\n",
            "\n",
            "len(obj, /)\n",
            "    Return the number of items in a container.\n",
            "\n"
          ]
        }
      ]
    },
    {
      "cell_type": "code",
      "source": [
        "# Usando a função embutida len()\n",
        "qtd_notas = len(notas)\n",
        "\n",
        "qtd_notas\n"
      ],
      "metadata": {
        "id": "--2rpTdtl7aj",
        "colab": {
          "base_uri": "https://localhost:8080/"
        },
        "outputId": "00eae0c6-d748-4d98-c64c-c26c1da8934c"
      },
      "execution_count": 6,
      "outputs": [
        {
          "output_type": "execute_result",
          "data": {
            "text/plain": [
              "3"
            ]
          },
          "metadata": {},
          "execution_count": 6
        }
      ]
    },
    {
      "cell_type": "markdown",
      "source": [
        "Para calcular a média, basta criarmos uma variável media que receberá somatorio dividido por qtd_notas:"
      ],
      "metadata": {
        "id": "DgzBFSh0zQp8"
      }
    },
    {
      "cell_type": "code",
      "source": [
        "# Calculando a média\n",
        "media = somatorio / qtd_notas\n",
        "\n",
        "media\n"
      ],
      "metadata": {
        "id": "BwIo6aopl7dZ",
        "colab": {
          "base_uri": "https://localhost:8080/"
        },
        "outputId": "d830d55f-cad2-4dce-e7a5-43d0bc236980"
      },
      "execution_count": 7,
      "outputs": [
        {
          "output_type": "execute_result",
          "data": {
            "text/plain": [
              "8.333333333333334"
            ]
          },
          "metadata": {},
          "execution_count": 7
        }
      ]
    },
    {
      "cell_type": "markdown",
      "source": [
        "Round  - arrendodamento da média"
      ],
      "metadata": {
        "id": "yZ_-cP6Am9g_"
      }
    },
    {
      "cell_type": "code",
      "source": [
        "help(round)\n"
      ],
      "metadata": {
        "id": "RsYcx4Xvl7gW",
        "colab": {
          "base_uri": "https://localhost:8080/"
        },
        "outputId": "9beb5a5f-9c11-4647-d0e5-e022f060bd5b"
      },
      "execution_count": 8,
      "outputs": [
        {
          "output_type": "stream",
          "name": "stdout",
          "text": [
            "Help on built-in function round in module builtins:\n",
            "\n",
            "round(number, ndigits=None)\n",
            "    Round a number to a given precision in decimal digits.\n",
            "    \n",
            "    The return value is an integer if ndigits is omitted or None.  Otherwise\n",
            "    the return value has the same type as the number.  ndigits may be negative.\n",
            "\n"
          ]
        }
      ]
    },
    {
      "cell_type": "code",
      "source": [
        "round?\n"
      ],
      "metadata": {
        "id": "aOeejb_6zVlj"
      },
      "execution_count": 1,
      "outputs": []
    },
    {
      "cell_type": "code",
      "source": [
        "media = somatorio / qtd_notas\n",
        "media = round(media,1)\n",
        "media\n"
      ],
      "metadata": {
        "colab": {
          "base_uri": "https://localhost:8080/"
        },
        "id": "lOtrI0tHzc5C",
        "outputId": "168f833a-71d3-48b4-d917-6a63dd018ad7"
      },
      "execution_count": 9,
      "outputs": [
        {
          "output_type": "execute_result",
          "data": {
            "text/plain": [
              "8.3"
            ]
          },
          "metadata": {},
          "execution_count": 9
        }
      ]
    },
    {
      "cell_type": "markdown",
      "source": [
        "\n",
        "\n",
        "---\n",
        "\n"
      ],
      "metadata": {
        "id": "bV7oar3702ow"
      }
    },
    {
      "cell_type": "markdown",
      "source": [
        "**Funções sem parâmetros**\n",
        "As funções sem parâmetro possuem um formato padrão:\n",
        "\n",
        "\n"
      ],
      "metadata": {
        "id": "SxzSwZab0fby"
      }
    },
    {
      "cell_type": "markdown",
      "source": [
        "\n",
        "\n",
        "##def é a palavra-chave para criar uma função.\n",
        "##Estrutura:\n",
        "##def<nome>():\n",
        "##  <instruções>\n",
        "\n",
        "\n",
        "\n"
      ],
      "metadata": {
        "id": "Z4g-scQs08h_"
      }
    },
    {
      "cell_type": "code",
      "source": [
        "def media():\n",
        "  calculo = (10+9+8)/3\n",
        "  print(calculo)"
      ],
      "metadata": {
        "id": "CWHSbNu01Tw9"
      },
      "execution_count": 10,
      "outputs": []
    },
    {
      "cell_type": "code",
      "source": [
        "media()"
      ],
      "metadata": {
        "colab": {
          "base_uri": "https://localhost:8080/"
        },
        "id": "YAcNQJeM1Ttx",
        "outputId": "e481459d-818f-4120-892c-cc52d70d015b"
      },
      "execution_count": 11,
      "outputs": [
        {
          "output_type": "stream",
          "name": "stdout",
          "text": [
            "9.0\n"
          ]
        }
      ]
    },
    {
      "cell_type": "markdown",
      "source": [
        "Funções com parâmetros\n",
        "\n",
        "Para que possamos colocar diferentes parâmetros, temos as funções com parâmetros. Com elas, conseguimos trazer dados com os quais a função deve trabalhar.\n",
        "\n",
        "A diferença entre a estrutura das funções com e sem parâmetros é que eles são passados entre parênteses e separados por vírgulas:"
      ],
      "metadata": {
        "id": "jXlRws6414FH"
      }
    },
    {
      "cell_type": "code",
      "source": [
        "def media(nota_1, nota_2, nota_3):\n",
        "    calculo = (nota_1 + nota_2 + nota_3)/3\n",
        "    print(calculo)\n"
      ],
      "metadata": {
        "id": "gafmcwD10YMN"
      },
      "execution_count": 12,
      "outputs": []
    },
    {
      "cell_type": "code",
      "source": [
        "media(3, 6, 9)\n"
      ],
      "metadata": {
        "id": "AHigx_Kw2JAf",
        "outputId": "c10a8e95-e54c-4cdb-b283-082e74845a68",
        "colab": {
          "base_uri": "https://localhost:8080/"
        }
      },
      "execution_count": 13,
      "outputs": [
        {
          "output_type": "stream",
          "name": "stdout",
          "text": [
            "6.0\n"
          ]
        }
      ]
    },
    {
      "cell_type": "markdown",
      "source": [
        "**Situação 2:** Recebemos uma demanda de calcular a média de um estudante a partir de uma lista, sendo possível alterar a quantidade de notas, sem impedir que o cálculo seja refeito. Os dados recebidos, desta vez, correspondem a uma lista contendo apenas as notas de um estudante em uma dada matéria."
      ],
      "metadata": {
        "id": "P7-Io7ufo3k7"
      }
    },
    {
      "cell_type": "code",
      "source": [
        "# Notas do(a) estudante\n",
        "notas = [8.5, 9.0, 6.0, 10.0]"
      ],
      "metadata": {
        "id": "z1sWJgb-2KZd"
      },
      "execution_count": 14,
      "outputs": []
    },
    {
      "cell_type": "code",
      "source": [
        "def media(lista):\n",
        "  calculo = sum(lista)/len(lista)\n",
        "  print(calculo)"
      ],
      "metadata": {
        "id": "iYtz-bZG2KWS"
      },
      "execution_count": 15,
      "outputs": []
    },
    {
      "cell_type": "code",
      "source": [
        "media(notas)"
      ],
      "metadata": {
        "id": "SmWPxIM_2KSw",
        "colab": {
          "base_uri": "https://localhost:8080/"
        },
        "outputId": "88ebe1fb-1730-4771-ec47-d49d59b1e774"
      },
      "execution_count": 16,
      "outputs": [
        {
          "output_type": "stream",
          "name": "stdout",
          "text": [
            "8.375\n"
          ]
        }
      ]
    },
    {
      "cell_type": "code",
      "source": [
        "resultado = media(notas)\n"
      ],
      "metadata": {
        "colab": {
          "base_uri": "https://localhost:8080/"
        },
        "id": "5_7Zto59pp2h",
        "outputId": "bfec7ce6-d736-41ba-cd50-6796d79f65b6"
      },
      "execution_count": 18,
      "outputs": [
        {
          "output_type": "stream",
          "name": "stdout",
          "text": [
            "8.375\n"
          ]
        }
      ]
    },
    {
      "cell_type": "code",
      "source": [
        "resultado"
      ],
      "metadata": {
        "id": "mr3q4g2xppzQ"
      },
      "execution_count": 19,
      "outputs": []
    },
    {
      "cell_type": "code",
      "source": [
        "type(resultado)"
      ],
      "metadata": {
        "colab": {
          "base_uri": "https://localhost:8080/"
        },
        "id": "ifOInAH4ppwd",
        "outputId": "f4bf4603-f2a7-48db-ff46-ee071fb60c10"
      },
      "execution_count": 20,
      "outputs": [
        {
          "output_type": "execute_result",
          "data": {
            "text/plain": [
              "NoneType"
            ]
          },
          "metadata": {},
          "execution_count": 20
        }
      ]
    },
    {
      "cell_type": "markdown",
      "source": [
        "Obtemos NoneType como retorno, como se fosse nulo. Isso ocorre porque, utilizando print, ele só serve para imprimir algo na tela, então não conseguimos salvar este valor printado em uma variável.\n",
        "\n",
        "Se tentarmos chamar calculo, que está na função, também encontraremos um erro dizendo que este nome não está definido.\n",
        "\n",
        "Isso ocorre por causa do escopo de função, que determina que uma variável que nasce dentro de uma função, também morre dentro desta função. Ou seja, existe apenas dentro da função, então não conseguimos utilizar este valor.\n",
        "\n",
        "Para resolver este problema e conseguir retornar um valor, trabalharemos com outros aspectos das funções."
      ],
      "metadata": {
        "id": "G_pbS-kYqUvh"
      }
    }
  ]
}